{
  "nbformat": 4,
  "nbformat_minor": 0,
  "metadata": {
    "colab": {
      "name": "IQB_ASS2.ipynb",
      "provenance": [],
      "collapsed_sections": []
    },
    "kernelspec": {
      "name": "python3",
      "display_name": "Python 3"
    },
    "language_info": {
      "name": "python"
    }
  },
  "cells": [
    {
      "cell_type": "markdown",
      "metadata": {
        "id": "sW00oUH5NCLn"
      },
      "source": [
        "#QUESTION 1\n",
        "## Implimentation of Chou and Fasman method"
      ]
    },
    {
      "cell_type": "markdown",
      "metadata": {
        "id": "Ts7tKW5Z7k28"
      },
      "source": [
        "####Initialising values"
      ]
    },
    {
      "cell_type": "code",
      "metadata": {
        "id": "f3WZjhj7Os4z"
      },
      "source": [
        "seq='SGFRKMAFPSGKVEGCMVQVTCGTTTLNGLWLDDTVYCPRHVICTAEDMLNPNYEDLLIRKSNHSFLVQAGNVQLRVIGHSMQNCLLRLKVDTSNPKTPKYKFVRIQPGQTFSVLACYNGSPSGVYQCAMRPNHTIKGSFLNGSCGSVGF'\n",
        "\n",
        "seq_len=len(seq)\n",
        "\n",
        "#AP contains parameters for alpha prediction\n",
        "AP = {\n",
        "    'E': 1.53,\n",
        "    'A': 1.45,\n",
        "    'L': 1.34,\n",
        "    'H': 1.24,\n",
        "    'M': 1.2,\n",
        "    'Q': 1.17,\n",
        "    'W': 1.14,\n",
        "    'V': 1.14,\n",
        "    'F': 1.12,\n",
        "    'K': 1.07,\n",
        "    'I': 1.00,\n",
        "    'D': 0.98,\n",
        "    'T': 0.82,\n",
        "    'R': 0.79,\n",
        "    'S': 0.79,\n",
        "    'C': 0.77,\n",
        "    'N': 0.73,\n",
        "    'Y': 0.61,\n",
        "    'P': 0.59,\n",
        "    'G': 0.53,\n",
        "}\n",
        "#ap contains reduced parameters for alpha prediction\n",
        "ap = {\n",
        "    'E': 1,\n",
        "    'A': 1,\n",
        "    'L': 1,\n",
        "    'H': 1,\n",
        "    'M': 1,\n",
        "    'Q': 1,\n",
        "    'W': 1,\n",
        "    'V': 1,\n",
        "    'F': 1,\n",
        "    'K': 0.5,\n",
        "    'I': 0.5,\n",
        "    'D': 0,\n",
        "    'T': 0,\n",
        "    'R': 0,\n",
        "    'S': 0,\n",
        "    'C': 0,\n",
        "    'N': -1,\n",
        "    'Y': -1,\n",
        "    'P': -1,\n",
        "    'G': -1,\n",
        "}\n",
        "\n",
        "BP= {\n",
        "    'M': 1.67,\n",
        "    'V': 1.65,\n",
        "    'I': 1.6,\n",
        "    'C': 1.3,\n",
        "    'Y': 1.29,\n",
        "    'F': 1.28,\n",
        "    'Q': 1.23,\n",
        "    'L': 1.22,\n",
        "    'T': 1.2,\n",
        "    'W': 1.19,\n",
        "    'A': 0.97,\n",
        "    'R': 0.9,\n",
        "    'G': 0.81,\n",
        "    'D': 0.8,\n",
        "    'K': 0.74,\n",
        "    'S': 0.72,\n",
        "    'H': 0.71,\n",
        "    'N': 0.65,\n",
        "    'P': 0.62,\n",
        "    'E': 0.26,\n",
        "}\n",
        "\n",
        "bp= {\n",
        "    'M': 1,\n",
        "    'V': 1,\n",
        "    'I': 1,\n",
        "    'C': 1,\n",
        "    'Y': 1,\n",
        "    'F': 1,\n",
        "    'Q': 1,\n",
        "    'L': 1,\n",
        "    'T': 1,\n",
        "    'W': 1,\n",
        "    'A': 0.5,\n",
        "    'R': 0,\n",
        "    'G': 0,\n",
        "    'D': 0,\n",
        "    'K': -1,\n",
        "    'S': -1,\n",
        "    'H': -1,\n",
        "    'N': -1,\n",
        "    'P': -1,\n",
        "    'E': -1,\n",
        "}\n",
        "\n",
        "#initialising list which will store at indexes if possible secondary structure or not\n",
        "alp=[0]*seq_len\n",
        "bet=[0]*seq_len"
      ],
      "execution_count": 50,
      "outputs": []
    },
    {
      "cell_type": "code",
      "metadata": {
        "id": "ltQ_jqRC-CIj"
      },
      "source": [
        "\n",
        "def startalpha(seq, ind):   #will return the next index from where the alpha series will start\n",
        "  for i in range(ind,seq_len-5):\n",
        "    testseq=seq[i:i+6]\n",
        "    # print(testseq)\n",
        "    hf, hb, score=0,0,0   #number of helix former and breaker, and initialise score\n",
        "    for j in testseq:\n",
        "      if ap[j]  > 0:\n",
        "        hf+=1\n",
        "      else:\n",
        "        hb+=1\n",
        "      score+= ap[j]\n",
        "    if(score>=4 and hb<2 and hf>3):   #these are the condition which need to be satisfied if have to be alpha\n",
        "      return i\n",
        "\n",
        "def increaselen_alpha(seq, ind, alp):    #this will take index and see before and after the index and will return the index uptil which the alpha will propogate\n",
        "  id1, id2= ind,ind+6\n",
        "  for i in range(ind-4, -1, -1):\n",
        "    testseq=seq[i:i+4]\n",
        "    score=0\n",
        "    for j in testseq:\n",
        "      score+= AP[j]\n",
        "    # print(\"inside 1st, score=\",score)\n",
        "    if(score<4 and i==ind-4):\n",
        "      break\n",
        "    if(score<4):\n",
        "      id1=i+1\n",
        "      break\n",
        "    if(score>4 and i==0):\n",
        "      id1=0\n",
        "\n",
        "  for i in range(id2, seq_len-3):\n",
        "    testseq=seq[i:i+4]\n",
        "    score=0\n",
        "    for j in testseq:\n",
        "      score+= AP[j]\n",
        "    if(score<4 and i==ind+6):\n",
        "      break\n",
        "    if(score<4 or i==seq_len-3):\n",
        "      id2=i\n",
        "      break\n",
        "  # print(\"ind1, ind 2 = \", id1, id2)     \n",
        "  for i in range(id1, id2):     #here marking 1 on list the part where it can be alpha\n",
        "    alp[i]=1\n",
        "  return id2, alp\n"
      ],
      "execution_count": 51,
      "outputs": []
    },
    {
      "cell_type": "code",
      "metadata": {
        "id": "TwR439uX-CkQ"
      },
      "source": [
        "#this function will use above 2 function and send us the list with possiblity of alpha is marked as 1 in that location\n",
        "def find_alpha(seq):\n",
        "  alp=[0]*seq_len\n",
        "  i=0\n",
        "  while i<seq_len:\n",
        "    ind=startalpha(seq,i)\n",
        "    i=ind\n",
        "    if(ind==None):\n",
        "      break\n",
        "    for j in range(6):\n",
        "      alp[(i+j)]=1\n",
        "    ind2, alp=increaselen_alpha(seq, ind, alp)\n",
        "    i=ind2-1\n",
        "    i+=1\n",
        "  return alp\n"
      ],
      "execution_count": 52,
      "outputs": []
    },
    {
      "cell_type": "markdown",
      "metadata": {
        "id": "jL-YKDIT9DtY"
      },
      "source": [
        "####We repeat the same function but this time with parameters used for beta sheet"
      ]
    },
    {
      "cell_type": "code",
      "metadata": {
        "id": "wwnqAvQP9Q35"
      },
      "source": [
        "bet=[0]*seq_len\n",
        "def startbeta(seq, ind):   #will return the next index from where the alpha series will start\n",
        "  for i in range(ind,seq_len-4):\n",
        "    testseq=seq[i:i+5]\n",
        "    # print(testseq)\n",
        "    hf, hb, score=0,0,0   #number of helix former and breaker, and initialise score\n",
        "    for j in testseq:\n",
        "      if bp[j]  > 0:\n",
        "        hf+=1\n",
        "      else:\n",
        "        hb+=1\n",
        "      score+= ap[j]\n",
        "    if(score>3 and hb<2 and hf>2):\n",
        "      return i\n",
        "\n",
        "def increaselen_beta(seq, ind, bet):    #this will take index and see before and after 4 value returns the index uptil which the alpha will propogate\n",
        "  id1, id2= ind,ind+5\n",
        "  for i in range(ind-4, -1, -1):\n",
        "    testseq=seq[i:i+4]\n",
        "    score=0\n",
        "    for j in testseq:\n",
        "      score+= BP[j]\n",
        "    if(score< 4 and i==ind-4):\n",
        "      break\n",
        "    if(score< 4):\n",
        "      id1=i+1\n",
        "      break\n",
        "    if(score> 4 and i==0):\n",
        "      id1=0\n",
        "\n",
        "  for i in range(id2, seq_len-3):\n",
        "    testseq=seq[i:i+4]\n",
        "    score=0\n",
        "    for j in testseq:\n",
        "      score+= BP[j]\n",
        "    if(score<4 and i==ind+5):\n",
        "      break\n",
        "    if(score<4 or i==seq_len-3):\n",
        "      id2=i\n",
        "      break\n",
        "  for i in range(id1, id2):\n",
        "    bet[i]=1\n",
        "  return id2, bet\n"
      ],
      "execution_count": 53,
      "outputs": []
    },
    {
      "cell_type": "code",
      "metadata": {
        "id": "BamGMJNU9qmt"
      },
      "source": [
        "def find_beta(seq):\n",
        "  bet=[0]*seq_len\n",
        "  i=0\n",
        "  while i<seq_len:\n",
        "    ind=startbeta(seq,i)\n",
        "    i=ind\n",
        "    if(ind==None):\n",
        "      break\n",
        "    for j in range(5):\n",
        "      bet[(i+j)]=1\n",
        "    ind2, bet=increaselen_beta(seq, ind, bet)\n",
        "    i=ind2-1\n",
        "    i+=1\n",
        "  return bet\n",
        "\n"
      ],
      "execution_count": 54,
      "outputs": []
    },
    {
      "cell_type": "markdown",
      "metadata": {
        "id": "K3ecWnje9TKr"
      },
      "source": [
        "####Now we use the above function to get the individual prediction of alpha and beta"
      ]
    },
    {
      "cell_type": "code",
      "metadata": {
        "id": "fdhdsrWTKdqK",
        "colab": {
          "base_uri": "https://localhost:8080/"
        },
        "outputId": "788b35b5-e72b-43f8-acd0-f4db55969634"
      },
      "source": [
        "alpha= find_alpha(seq)\n",
        "beta=find_beta(seq)\n",
        "\n",
        "print(alpha)\n",
        "print(beta)"
      ],
      "execution_count": 55,
      "outputs": [
        {
          "output_type": "stream",
          "text": [
            "[0, 0, 1, 1, 1, 1, 1, 1, 0, 0, 0, 0, 0, 0, 0, 0, 0, 0, 0, 0, 0, 0, 0, 0, 0, 0, 0, 0, 0, 0, 0, 0, 0, 0, 0, 0, 0, 0, 0, 0, 0, 0, 0, 0, 0, 0, 0, 0, 0, 0, 0, 0, 0, 0, 0, 0, 0, 0, 0, 0, 0, 0, 0, 1, 1, 1, 1, 1, 1, 0, 0, 0, 1, 1, 1, 1, 1, 1, 0, 0, 0, 0, 0, 0, 0, 1, 1, 1, 1, 1, 1, 0, 0, 0, 0, 0, 0, 0, 0, 0, 0, 1, 1, 1, 1, 1, 1, 0, 0, 0, 0, 0, 0, 0, 0, 0, 0, 0, 0, 0, 0, 0, 0, 0, 0, 0, 0, 0, 0, 0, 0, 0, 0, 0, 0, 0, 0, 0, 0, 0, 0, 0, 0, 0, 0, 0, 0, 0, 0, 0]\n",
            "[0, 0, 0, 0, 0, 0, 0, 0, 0, 0, 0, 0, 0, 0, 0, 1, 1, 1, 1, 1, 1, 1, 1, 1, 1, 0, 0, 0, 0, 0, 0, 0, 0, 0, 0, 0, 0, 0, 0, 0, 0, 0, 0, 0, 0, 0, 0, 0, 0, 0, 0, 0, 0, 0, 0, 0, 0, 0, 0, 0, 0, 0, 0, 0, 1, 1, 1, 1, 1, 1, 1, 1, 1, 1, 1, 1, 1, 0, 0, 0, 0, 0, 0, 0, 0, 0, 0, 0, 0, 0, 0, 0, 0, 0, 0, 0, 0, 0, 0, 0, 0, 0, 1, 1, 1, 1, 1, 0, 0, 0, 0, 1, 1, 1, 1, 1, 1, 0, 0, 0, 0, 0, 0, 0, 0, 0, 0, 0, 0, 0, 0, 0, 0, 0, 0, 0, 0, 0, 0, 0, 0, 0, 0, 0, 0, 0, 0, 0, 0, 0]\n"
          ],
          "name": "stdout"
        }
      ]
    },
    {
      "cell_type": "code",
      "metadata": {
        "id": "i5NwpWndeYqH"
      },
      "source": [
        "#This is not the final answer, here we are not considering the conflicting case(this has been handled later)\n",
        "finallist=['T']*len(seq)\n",
        "for i  in range(seq_len):\n",
        "  if(alpha[i]==1):\n",
        "    finallist[i]='H'\n",
        "  if(beta[i]==1):\n",
        "    finallist[i]='S'\n",
        "\n",
        "# print(finallist)"
      ],
      "execution_count": 56,
      "outputs": []
    },
    {
      "cell_type": "code",
      "metadata": {
        "colab": {
          "base_uri": "https://localhost:8080/"
        },
        "id": "0rakbXFtWOqD",
        "outputId": "2e873639-69ef-44fc-d39b-0dcafffc5bf5"
      },
      "source": [
        "#Here we are finding the indexes which has been predicted both alpha and beta by our method\n",
        "conflict=[]\n",
        "for i in range(seq_len):\n",
        "  if(alpha[i]==beta[i]==1):\n",
        "    conflict.append(i)\n",
        "\n",
        "print(conflict)"
      ],
      "execution_count": 57,
      "outputs": [
        {
          "output_type": "stream",
          "text": [
            "[64, 65, 66, 67, 68, 72, 73, 74, 75, 76, 102, 103, 104, 105, 106]\n"
          ],
          "name": "stdout"
        }
      ]
    },
    {
      "cell_type": "markdown",
      "metadata": {
        "id": "BwGyrSTy-S1A"
      },
      "source": [
        "####Here we are correcting the conflicting values(deciding which strech have max value)"
      ]
    },
    {
      "cell_type": "code",
      "metadata": {
        "colab": {
          "base_uri": "https://localhost:8080/"
        },
        "id": "QulRKh0mYT_n",
        "outputId": "b199bb13-4542-4890-97c5-9ae219c90e3d"
      },
      "source": [
        "\n",
        "conflictvalue= [0]*len(conflict)\n",
        "indices=[]\n",
        "for i in range(len(conflict)-1):\n",
        "\n",
        "  if(conflict[i]+1== conflict[i+1] and i!= len(conflict)-2):\n",
        "    indices.append(conflict[i])\n",
        "  else:\n",
        "    indices.append(conflict[i])\n",
        "    if(i == len(conflict)-2):\n",
        "      indices.append(conflict[i+1])\n",
        "    # print(indices)\n",
        "    salpha, sbeta=0,0\n",
        "    for j in indices:\n",
        "      salpha+= AP[seq[j]]\n",
        "      sbeta+= BP[seq[j]]\n",
        "    if(salpha>=sbeta):\n",
        "      for k in indices:\n",
        "        finallist[k]='H'\n",
        "    else:\n",
        "      for k in indices:\n",
        "        finallist[k]='S'\n",
        "    indices=[]\n",
        "\n",
        "print(\"The finallist= \", finallist)"
      ],
      "execution_count": 58,
      "outputs": [
        {
          "output_type": "stream",
          "text": [
            "The finallist=  ['T', 'T', 'H', 'H', 'H', 'H', 'H', 'H', 'T', 'T', 'T', 'T', 'T', 'T', 'T', 'S', 'S', 'S', 'S', 'S', 'S', 'S', 'S', 'S', 'S', 'T', 'T', 'T', 'T', 'T', 'T', 'T', 'T', 'T', 'T', 'T', 'T', 'T', 'T', 'T', 'T', 'T', 'T', 'T', 'T', 'T', 'T', 'T', 'T', 'T', 'T', 'T', 'T', 'T', 'T', 'T', 'T', 'T', 'T', 'T', 'T', 'T', 'T', 'H', 'S', 'S', 'S', 'S', 'S', 'S', 'S', 'S', 'S', 'S', 'S', 'S', 'S', 'H', 'T', 'T', 'T', 'T', 'T', 'T', 'T', 'H', 'H', 'H', 'H', 'H', 'H', 'T', 'T', 'T', 'T', 'T', 'T', 'T', 'T', 'T', 'T', 'H', 'S', 'S', 'S', 'S', 'S', 'T', 'T', 'T', 'T', 'S', 'S', 'S', 'S', 'S', 'S', 'T', 'T', 'T', 'T', 'T', 'T', 'T', 'T', 'T', 'T', 'T', 'T', 'T', 'T', 'T', 'T', 'T', 'T', 'T', 'T', 'T', 'T', 'T', 'T', 'T', 'T', 'T', 'T', 'T', 'T', 'T', 'T', 'T']\n"
          ],
          "name": "stdout"
        }
      ]
    },
    {
      "cell_type": "markdown",
      "metadata": {
        "id": "cV9JyzqN-t9x"
      },
      "source": [
        "###Q1 B\n",
        "#### Printing the final output we got from the method "
      ]
    },
    {
      "cell_type": "code",
      "metadata": {
        "id": "_qSko3nBgD--",
        "colab": {
          "base_uri": "https://localhost:8080/"
        },
        "outputId": "9af6145d-f888-4c21-ae30-60352cf0e3af"
      },
      "source": [
        "finalstring=''\n",
        "for i in finallist:\n",
        "  finalstring+= i\n",
        "\n",
        "print(seq)\n",
        "print('|'*seq_len)\n",
        "print(finalstring)"
      ],
      "execution_count": 59,
      "outputs": [
        {
          "output_type": "stream",
          "text": [
            "SGFRKMAFPSGKVEGCMVQVTCGTTTLNGLWLDDTVYCPRHVICTAEDMLNPNYEDLLIRKSNHSFLVQAGNVQLRVIGHSMQNCLLRLKVDTSNPKTPKYKFVRIQPGQTFSVLACYNGSPSGVYQCAMRPNHTIKGSFLNGSCGSVGF\n",
            "||||||||||||||||||||||||||||||||||||||||||||||||||||||||||||||||||||||||||||||||||||||||||||||||||||||||||||||||||||||||||||||||||||||||||||||||||||||\n",
            "TTHHHHHHTTTTTTTSSSSSSSSSSTTTTTTTTTTTTTTTTTTTTTTTTTTTTTTTTTTTTTTHSSSSSSSSSSSSSHTTTTTTTHHHHHHTTTTTTTTTTHSSSSSTTTTSSSSSSTTTTTTTTTTTTTTTTTTTTTTTTTTTTTTTTT\n"
          ],
          "name": "stdout"
        }
      ]
    },
    {
      "cell_type": "markdown",
      "metadata": {
        "id": "-ufDlM7HJZx1"
      },
      "source": [
        "#QUESTION 2\n",
        "## Comparision with online tool"
      ]
    },
    {
      "cell_type": "markdown",
      "metadata": {
        "id": "-Zf_1dS-IsP0"
      },
      "source": [
        "Secondary structure prediction with server\n"
      ]
    },
    {
      "cell_type": "code",
      "metadata": {
        "id": "vNrW1p5-IyBg"
      },
      "source": [
        "# REM  -------------------- Secondary structure summary -------------------  ~~~~\n",
        "# REM                                                                        ~~~~\n",
        "# CHN  /home/proj/stride/tmp/tmp1SLkhYpdb A                                  ~~~~\n",
        "# REM                                                                        ~~~~\n",
        "# REM                .         .         .         .         .               ~~~~\n",
        "# SEQ  1    SGFRKMAFPSGKVEGCMVQVTCGTTTLNGLWLDDTVYCPRHVICTAEDML   50          ~~~~\n",
        "# STR       TTTT     HHHHHH EEEEEETTEEEEEEEETTEEEEEGGGG  HHHHH               ~~~~\n",
        "# REM                                                                        ~~~~\n",
        "# REM                .         .         .         .         .               ~~~~\n",
        "# SEQ  51   NPNYEDLLIRKSNHSFLVQAGNVQLRVIGHSMQNCLLRLKVDTSNPKTPK  100          ~~~~\n",
        "# STR          HHHHHHH  GGG EEEETTEEE EEEEEEETTEEEEEE   TTTT                 ~~~~\n",
        "# REM                                                                        ~~~~\n",
        "# REM                .         .         .         .         .               ~~~~\n",
        "# SEQ  101  YKFVRIQPGQTFSVLACYNGSPSGVYQCAMRPNHTIKGSFLNGSCGSVGF  150          ~~~~\n",
        "# STR             TTTEEEEEEEEETTEEEEEEEEEETTTT B    TTTTTTTEE                ~~~~\n",
        "# REM                                                                        ~~~~\n",
        "# REM                                                                        ~~~~\n",
        "# REM                                                                        ~~~~\n",
        "# LOC  AlphaHelix   SER    10 A      GLY     15 A                            ~~~~\n",
        "# LOC  AlphaHelix   ALA    46 A      LEU     50 A                            ~~~~\n",
        "# LOC  AlphaHelix   TYR    54 A      ARG     60 A                            ~~~~\n",
        "# LOC  310Helix     ARG    40 A      ILE     43 A                            ~~~~\n",
        "# LOC  310Helix     ASN    63 A      SER     65 A                            ~~~~\n",
        "# LOC  Strand       MET    17 A      CYS     22 A                            ~~~~\n",
        "# LOC  Strand       THR    25 A      LEU     32 A                            ~~~~\n",
        "# LOC  Strand       THR    35 A      PRO     39 A                            ~~~~\n",
        "# LOC  Strand       LEU    67 A      ALA     70 A                            ~~~~\n",
        "# LOC  Strand       VAL    73 A      LEU     75 A                            ~~~~\n",
        "# LOC  Strand       VAL    77 A      GLN     83 A                            ~~~~\n",
        "# LOC  Strand       LEU    86 A      VAL     91 A                            ~~~~\n",
        "# LOC  Strand       GLN   110 A      TYR    118 A                            ~~~~\n",
        "# LOC  Strand       SER   121 A      MET    130 A                            ~~~~\n",
        "# LOC  Strand       VAL   148 A      GLY    149 A                            ~~~~\n",
        "# LOC  TurnVIII     SER     1 A      ARG      4 A                            ~~~~\n",
        "# LOC  TurnII'      CYS    22 A      THR     25 A                            ~~~~\n",
        "# LOC  TurnII'      LEU    32 A      THR     35 A                            ~~~~\n",
        "# LOC  TurnIV       GLN    69 A      ASN     72 A                            ~~~~\n",
        "# LOC  TurnII'      ALA    70 A      VAL     73 A                            ~~~~\n",
        "# LOC  TurnII'      GLN    83 A      LEU     86 A                            ~~~~\n",
        "# LOC  TurnI        ASN    95 A      THR     98 A                            ~~~~\n",
        "# LOC  TurnII       GLN   107 A      GLN    110 A                            ~~~~\n",
        "# LOC  TurnIV       CYS   117 A      GLY    120 A                            ~~~~\n",
        "# LOC  TurnI'       TYR   118 A      SER    121 A                            ~~~~\n",
        "# LOC  TurnI        ARG   131 A      HIS    134 A                            ~~~~\n",
        "# LOC  TurnII       LEU   141 A      SER    144 A                            ~~~~\n",
        "# LOC  TurnII       SER   144 A      SER    147 A                            ~~~~\n",
        "# REM                                                                        ~~~~"
      ],
      "execution_count": 60,
      "outputs": []
    },
    {
      "cell_type": "markdown",
      "metadata": {
        "id": "oEA125PoKnJq"
      },
      "source": [
        "wrote the output in text format for better interpretation"
      ]
    },
    {
      "cell_type": "code",
      "metadata": {
        "colab": {
          "base_uri": "https://localhost:8080/"
        },
        "id": "xzKTMPQ12pYx",
        "outputId": "bc8b40d2-d04b-4808-9495-5c602a55ae58"
      },
      "source": [
        "found1 = \"TTHHHHHHTTTTTTTSSSSSSSSSSTTTTTTTTTTTTTTTTTTTTTTTTTTTTTTTTTTTTTTHSSSSSSSSSSSSSHTTTTTTTHHHHHHTTTTTTTTTTHSSSSSTTTTSSSSSSTTTTTTTTTTTTTTTTTTTTTTTTTTTTTTTTT\"\n",
        "found2 = \"TTTT     HHHHHH EEEEEETTEEEEEEEETTEEEEEGGGG  HHHHH   HHHHHHH  GGG EEEETTEEE EEEEEEETTEEEEEE   TTTT        TTTEEEEEEEEETTEEEEEEEEEETTTT B    TTTTTTTEE \"\n",
        "for i, j in enumerate(found1):\n",
        "  print(f\"At index {i+1} -  {j} and {found2[i]}\")"
      ],
      "execution_count": 61,
      "outputs": [
        {
          "output_type": "stream",
          "text": [
            "At index 1 -  T and T\n",
            "At index 2 -  T and T\n",
            "At index 3 -  H and T\n",
            "At index 4 -  H and T\n",
            "At index 5 -  H and  \n",
            "At index 6 -  H and  \n",
            "At index 7 -  H and  \n",
            "At index 8 -  H and  \n",
            "At index 9 -  T and  \n",
            "At index 10 -  T and H\n",
            "At index 11 -  T and H\n",
            "At index 12 -  T and H\n",
            "At index 13 -  T and H\n",
            "At index 14 -  T and H\n",
            "At index 15 -  T and H\n",
            "At index 16 -  S and  \n",
            "At index 17 -  S and E\n",
            "At index 18 -  S and E\n",
            "At index 19 -  S and E\n",
            "At index 20 -  S and E\n",
            "At index 21 -  S and E\n",
            "At index 22 -  S and E\n",
            "At index 23 -  S and T\n",
            "At index 24 -  S and T\n",
            "At index 25 -  S and E\n",
            "At index 26 -  T and E\n",
            "At index 27 -  T and E\n",
            "At index 28 -  T and E\n",
            "At index 29 -  T and E\n",
            "At index 30 -  T and E\n",
            "At index 31 -  T and E\n",
            "At index 32 -  T and E\n",
            "At index 33 -  T and T\n",
            "At index 34 -  T and T\n",
            "At index 35 -  T and E\n",
            "At index 36 -  T and E\n",
            "At index 37 -  T and E\n",
            "At index 38 -  T and E\n",
            "At index 39 -  T and E\n",
            "At index 40 -  T and G\n",
            "At index 41 -  T and G\n",
            "At index 42 -  T and G\n",
            "At index 43 -  T and G\n",
            "At index 44 -  T and  \n",
            "At index 45 -  T and  \n",
            "At index 46 -  T and H\n",
            "At index 47 -  T and H\n",
            "At index 48 -  T and H\n",
            "At index 49 -  T and H\n",
            "At index 50 -  T and H\n",
            "At index 51 -  T and  \n",
            "At index 52 -  T and  \n",
            "At index 53 -  T and  \n",
            "At index 54 -  T and H\n",
            "At index 55 -  T and H\n",
            "At index 56 -  T and H\n",
            "At index 57 -  T and H\n",
            "At index 58 -  T and H\n",
            "At index 59 -  T and H\n",
            "At index 60 -  T and H\n",
            "At index 61 -  T and  \n",
            "At index 62 -  T and  \n",
            "At index 63 -  T and G\n",
            "At index 64 -  H and G\n",
            "At index 65 -  S and G\n",
            "At index 66 -  S and  \n",
            "At index 67 -  S and E\n",
            "At index 68 -  S and E\n",
            "At index 69 -  S and E\n",
            "At index 70 -  S and E\n",
            "At index 71 -  S and T\n",
            "At index 72 -  S and T\n",
            "At index 73 -  S and E\n",
            "At index 74 -  S and E\n",
            "At index 75 -  S and E\n",
            "At index 76 -  S and  \n",
            "At index 77 -  S and E\n",
            "At index 78 -  H and E\n",
            "At index 79 -  T and E\n",
            "At index 80 -  T and E\n",
            "At index 81 -  T and E\n",
            "At index 82 -  T and E\n",
            "At index 83 -  T and E\n",
            "At index 84 -  T and T\n",
            "At index 85 -  T and T\n",
            "At index 86 -  H and E\n",
            "At index 87 -  H and E\n",
            "At index 88 -  H and E\n",
            "At index 89 -  H and E\n",
            "At index 90 -  H and E\n",
            "At index 91 -  H and E\n",
            "At index 92 -  T and  \n",
            "At index 93 -  T and  \n",
            "At index 94 -  T and  \n",
            "At index 95 -  T and T\n",
            "At index 96 -  T and T\n",
            "At index 97 -  T and T\n",
            "At index 98 -  T and T\n",
            "At index 99 -  T and  \n",
            "At index 100 -  T and  \n",
            "At index 101 -  T and  \n",
            "At index 102 -  H and  \n",
            "At index 103 -  S and  \n",
            "At index 104 -  S and  \n",
            "At index 105 -  S and  \n",
            "At index 106 -  S and  \n",
            "At index 107 -  S and T\n",
            "At index 108 -  T and T\n",
            "At index 109 -  T and T\n",
            "At index 110 -  T and E\n",
            "At index 111 -  T and E\n",
            "At index 112 -  S and E\n",
            "At index 113 -  S and E\n",
            "At index 114 -  S and E\n",
            "At index 115 -  S and E\n",
            "At index 116 -  S and E\n",
            "At index 117 -  S and E\n",
            "At index 118 -  T and E\n",
            "At index 119 -  T and T\n",
            "At index 120 -  T and T\n",
            "At index 121 -  T and E\n",
            "At index 122 -  T and E\n",
            "At index 123 -  T and E\n",
            "At index 124 -  T and E\n",
            "At index 125 -  T and E\n",
            "At index 126 -  T and E\n",
            "At index 127 -  T and E\n",
            "At index 128 -  T and E\n",
            "At index 129 -  T and E\n",
            "At index 130 -  T and E\n",
            "At index 131 -  T and T\n",
            "At index 132 -  T and T\n",
            "At index 133 -  T and T\n",
            "At index 134 -  T and T\n",
            "At index 135 -  T and  \n",
            "At index 136 -  T and B\n",
            "At index 137 -  T and  \n",
            "At index 138 -  T and  \n",
            "At index 139 -  T and  \n",
            "At index 140 -  T and  \n",
            "At index 141 -  T and T\n",
            "At index 142 -  T and T\n",
            "At index 143 -  T and T\n",
            "At index 144 -  T and T\n",
            "At index 145 -  T and T\n",
            "At index 146 -  T and T\n",
            "At index 147 -  T and T\n",
            "At index 148 -  T and E\n",
            "At index 149 -  T and E\n",
            "At index 150 -  T and  \n"
          ],
          "name": "stdout"
        }
      ]
    },
    {
      "cell_type": "markdown",
      "metadata": {
        "id": "Io8rqMQFK59g"
      },
      "source": [
        "####Regions differing\n",
        "\n",
        "- From above we can see that hardly any alpha region is being predicted correctly, but we can also see that all the regions which have been predicted beta almost matches with the prediction of the server.\n",
        "\n",
        "- We are not comparing the turns, as we have assigned turns wherever the algorithm is not predicting either alpha or beta.\n",
        "\n",
        "- We can see that our model does bad specially on the starting of the sequence\n",
        "\n",
        "- At index 54-60 our algorithm is unable to predict the helix.\n",
        "\n",
        "- From index 86-91 our algorithm predicts helix instead of S\n",
        "\n",
        "- We can see that in the conflicting region of 65-75 it is working great\n"
      ]
    },
    {
      "cell_type": "markdown",
      "metadata": {
        "id": "CzOQRwv9MPho"
      },
      "source": [
        "#### Probable reasons for the difference\n",
        "\n",
        "- We are not predicting the small length of the sequence. we can see that the server predicts even a single nucliotide, we on the other hand is predicting for minimum of 5 lenght. This makes our algorithm bypass small sequences, which can be of importance. This can explain why our model is predicting with less accuracy\n",
        "\n",
        "- Our algorithm does really bad at the starting of the sequence, which can be reasoned as we are not considering the nucliotide behaviour at starting or end part of the sequence.\n",
        "\n",
        "- The algorithm is very basic and it is misses on the details. Therefore it predicts wrong inbetween\n",
        "\n",
        "- In the conflicting region we can see that it is predicting right, this means that the basic way of resolving conflict(give the position the sequence which give the maximum score) works."
      ]
    },
    {
      "cell_type": "code",
      "metadata": {
        "id": "VcKb_N0CQOsV"
      },
      "source": [
        ""
      ],
      "execution_count": 61,
      "outputs": []
    }
  ]
}